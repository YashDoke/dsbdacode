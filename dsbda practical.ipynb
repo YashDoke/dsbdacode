{
 "cells": [
  {
   "cell_type": "code",
   "execution_count": 1,
   "id": "b2c07979",
   "metadata": {},
   "outputs": [],
   "source": [
    "import pandas as pd\n",
    "import numpy as np"
   ]
  },
  {
   "cell_type": "code",
   "execution_count": 4,
   "id": "14bf5fa8",
   "metadata": {},
   "outputs": [],
   "source": [
    "# pd.read_csv(\"studentPerformance.csv\")"
   ]
  },
  {
   "cell_type": "code",
   "execution_count": 6,
   "id": "0451a862",
   "metadata": {},
   "outputs": [
    {
     "name": "stdout",
     "output_type": "stream",
     "text": [
      "      Name       State Gender  Score\n",
      "0   George     Arizona      M   63.0\n",
      "1   Andrea     Georgia      F   48.0\n",
      "2  micheal     Newyork      M   56.0\n",
      "3   maggie     Indiana      F   75.0\n",
      "4     Ravi     Florida      M    NaN\n",
      "5     Xien  California      M   77.0\n",
      "6    Jalpa         NaN    NaN    NaN\n",
      "7      NaN         NaN    NaN    NaN\n"
     ]
    }
   ],
   "source": [
    "df1 = {\n",
    "    'Name':['George','Andrea','micheal','maggie','Ravi','Xien','Jalpa',np.nan],\n",
    "    'State':['Arizona','Georgia','Newyork','Indiana','Florida','California',np.nan,np.nan],\n",
    "    'Gender':['M','F','M','F','M','M',np.nan,np.nan],\n",
    "    'Score':[63,48,56,75,np.nan,77,np.nan,np.nan]\n",
    "    \n",
    "    \n",
    "}\n",
    "\n",
    "df1 = pd.DataFrame(df1,columns=['Name','State','Gender','Score'])\n",
    "print(df1)"
   ]
  },
  {
   "cell_type": "code",
   "execution_count": null,
   "id": "99a439af",
   "metadata": {},
   "outputs": [],
   "source": [
    "data = {'Name':['jai','prachi','gaurav','anuj','ravi','natasha','riya'],\n",
    "        'age':[17,17,18,17,18,17]\n",
    "}"
   ]
  }
 ],
 "metadata": {
  "kernelspec": {
   "display_name": "Python 3 (ipykernel)",
   "language": "python",
   "name": "python3"
  },
  "language_info": {
   "codemirror_mode": {
    "name": "ipython",
    "version": 3
   },
   "file_extension": ".py",
   "mimetype": "text/x-python",
   "name": "python",
   "nbconvert_exporter": "python",
   "pygments_lexer": "ipython3",
   "version": "3.10.0"
  }
 },
 "nbformat": 4,
 "nbformat_minor": 5
}
